{
 "cells": [
  {
   "cell_type": "code",
   "execution_count": 27,
   "metadata": {},
   "outputs": [],
   "source": [
    "from __future__ import print_function, division\n",
    "from builtins import range, input\n",
    "# Note: you may need to update your version of future\n",
    "# sudo pip install -U future\n",
    "\n",
    "\n",
    "import os\n",
    "from keras.models import Model\n",
    "from keras.layers import Input, LSTM, GRU, Bidirectional, GlobalMaxPooling1D, Lambda, Concatenate, Dense\n",
    "import keras.backend as K\n",
    "import numpy as np\n",
    "import pandas as pd\n",
    "import matplotlib.pyplot as plt\n",
    "\n",
    "if len(K.tensorflow_backend._get_available_gpus()) > 0:\n",
    "  from keras.layers import CuDNNLSTM as LSTM\n",
    "  from keras.layers import CuDNNGRU as GRU\n",
    "\n"
   ]
  },
  {
   "cell_type": "code",
   "execution_count": 28,
   "metadata": {},
   "outputs": [],
   "source": [
    "def get_mnist(limit=None):\n",
    "  if not os.path.exists('../large_files'):\n",
    "    print(\"You must create a folder called large_files adjacent to the class folder first.\")\n",
    "  if not os.path.exists('train.csv'):\n",
    "    print(\"Looks like you haven't downloaded the data or it's not in the right spot.\")\n",
    "    print(\"Please get train.csv from https://www.kaggle.com/c/digit-recognizer\")\n",
    "    print(\"and place it in the large_files folder.\")\n",
    "\n",
    "  print(\"Reading in and transforming data...\")\n",
    "  df = pd.read_csv('train.csv')\n",
    "  data = df.values\n",
    "  np.random.shuffle(data)\n",
    "  X = data[:, 1:].reshape(-1, 28, 28) / 255.0 # data is from 0..255\n",
    "  Y = data[:, 0]\n",
    "  if limit is not None:\n",
    "    X, Y = X[:limit], Y[:limit]\n",
    "  return X, Y\n"
   ]
  },
  {
   "cell_type": "code",
   "execution_count": 29,
   "metadata": {},
   "outputs": [
    {
     "name": "stdout",
     "output_type": "stream",
     "text": [
      "You must create a folder called large_files adjacent to the class folder first.\n",
      "Reading in and transforming data...\n"
     ]
    }
   ],
   "source": [
    "X, Y = get_mnist()\n",
    "\n"
   ]
  },
  {
   "cell_type": "code",
   "execution_count": 30,
   "metadata": {},
   "outputs": [
    {
     "data": {
      "text/plain": [
       "array([1, 2, 6, ..., 9, 5, 1])"
      ]
     },
     "execution_count": 30,
     "metadata": {},
     "output_type": "execute_result"
    }
   ],
   "source": [
    "Y"
   ]
  },
  {
   "cell_type": "code",
   "execution_count": 34,
   "metadata": {},
   "outputs": [],
   "source": [
    "# config\n",
    "D = 28\n",
    "M = 128"
   ]
  },
  {
   "cell_type": "code",
   "execution_count": 35,
   "metadata": {},
   "outputs": [],
   "source": [
    "# input is an image of size 28x28\n",
    "input_ = Input(shape=(D, D))"
   ]
  },
  {
   "cell_type": "code",
   "execution_count": 36,
   "metadata": {},
   "outputs": [
    {
     "name": "stdout",
     "output_type": "stream",
     "text": [
      "(?, 28, 256)\n",
      "(?, 256)\n"
     ]
    }
   ],
   "source": [
    "# up-down\n",
    "rnn1 = Bidirectional(LSTM(M, return_sequences=True))\n",
    "x1 = rnn1(input_) # output is N x D x 2M\n",
    "print(x1.shape)\n",
    "x1 = GlobalMaxPooling1D()(x1) # output is N x 2M\n",
    "print(x1.shape)"
   ]
  },
  {
   "cell_type": "code",
   "execution_count": 37,
   "metadata": {},
   "outputs": [],
   "source": [
    "# left-right\n",
    "rnn2 = Bidirectional(LSTM(M, return_sequences=True))"
   ]
  },
  {
   "cell_type": "code",
   "execution_count": 38,
   "metadata": {},
   "outputs": [],
   "source": [
    "# custom layer\n",
    "permutor = Lambda(lambda t: K.permute_dimensions(t, pattern=(0, 2, 1)))"
   ]
  },
  {
   "cell_type": "code",
   "execution_count": 39,
   "metadata": {},
   "outputs": [
    {
     "name": "stdout",
     "output_type": "stream",
     "text": [
      "(?, 28, 256)\n",
      "(?, 256)\n"
     ]
    }
   ],
   "source": [
    "x2 = permutor(input_)\n",
    "x2 = rnn2(x2) # output is N x D x 2M\n",
    "print(x2.shape)\n",
    "x2 = GlobalMaxPooling1D()(x2) # output is N x 2M\n",
    "print(x2.shape)"
   ]
  },
  {
   "cell_type": "code",
   "execution_count": 40,
   "metadata": {},
   "outputs": [],
   "source": [
    "# put them together\n",
    "concatenator = Concatenate(axis=1)\n",
    "x = concatenator([x1, x2]) # output is N x 4M\n",
    "\n",
    "# final dense layer\n",
    "output = Dense(10, activation='softmax')(x)\n",
    "\n",
    "model = Model(inputs=input_, outputs=output)\n"
   ]
  },
  {
   "cell_type": "code",
   "execution_count": 41,
   "metadata": {},
   "outputs": [
    {
     "name": "stdout",
     "output_type": "stream",
     "text": [
      "o.shape: (42000, 10)\n"
     ]
    }
   ],
   "source": [
    "# testing\n",
    "o = model.predict(X)\n",
    "print(\"o.shape:\", o.shape)"
   ]
  },
  {
   "cell_type": "code",
   "execution_count": 42,
   "metadata": {},
   "outputs": [],
   "source": [
    "# compile\n",
    "model.compile(\n",
    "  loss='sparse_categorical_crossentropy',\n",
    "  optimizer='adam',\n",
    "  metrics=['accuracy']\n",
    ")\n"
   ]
  },
  {
   "cell_type": "code",
   "execution_count": 43,
   "metadata": {},
   "outputs": [
    {
     "name": "stdout",
     "output_type": "stream",
     "text": [
      "Training model...\n",
      "Train on 29399 samples, validate on 12601 samples\n",
      "Epoch 1/10\n",
      "29399/29399 [==============================] - 124s 4ms/step - loss: 0.3179 - accuracy: 0.9074 - val_loss: 0.1322 - val_accuracy: 0.9577\n",
      "Epoch 2/10\n",
      "29399/29399 [==============================] - 104s 4ms/step - loss: 0.1149 - accuracy: 0.9637 - val_loss: 0.0925 - val_accuracy: 0.9709\n",
      "Epoch 3/10\n",
      "29399/29399 [==============================] - 101s 3ms/step - loss: 0.0806 - accuracy: 0.9751 - val_loss: 0.0944 - val_accuracy: 0.9697\n",
      "Epoch 4/10\n",
      "29399/29399 [==============================] - 98s 3ms/step - loss: 0.0683 - accuracy: 0.9787 - val_loss: 0.0631 - val_accuracy: 0.9796\n",
      "Epoch 5/10\n",
      "29399/29399 [==============================] - 107s 4ms/step - loss: 0.0541 - accuracy: 0.9834 - val_loss: 0.0564 - val_accuracy: 0.9831\n",
      "Epoch 6/10\n",
      "29399/29399 [==============================] - 153s 5ms/step - loss: 0.0450 - accuracy: 0.9851 - val_loss: 0.0685 - val_accuracy: 0.9784\n",
      "Epoch 7/10\n",
      "29399/29399 [==============================] - 118s 4ms/step - loss: 0.0355 - accuracy: 0.9888 - val_loss: 0.0499 - val_accuracy: 0.9853\n",
      "Epoch 8/10\n",
      "29399/29399 [==============================] - 125s 4ms/step - loss: 0.0312 - accuracy: 0.9896 - val_loss: 0.0525 - val_accuracy: 0.9848\n",
      "Epoch 9/10\n",
      "29399/29399 [==============================] - 111s 4ms/step - loss: 0.0270 - accuracy: 0.9916 - val_loss: 0.0484 - val_accuracy: 0.9859\n",
      "Epoch 10/10\n",
      "29399/29399 [==============================] - 99s 3ms/step - loss: 0.0229 - accuracy: 0.9922 - val_loss: 0.0499 - val_accuracy: 0.9840\n"
     ]
    }
   ],
   "source": [
    "print('Training model...')\n",
    "r = model.fit(X, Y, batch_size=32, epochs=10, validation_split=0.3)"
   ]
  },
  {
   "cell_type": "code",
   "execution_count": 45,
   "metadata": {},
   "outputs": [
    {
     "name": "stdout",
     "output_type": "stream",
     "text": [
      "Looks like you haven't downloaded the data or it's not in the right spot.\n",
      "Please get train.csv from https://www.kaggle.com/c/digit-recognizer\n",
      "and place it in the large_files folder.\n",
      "Reading in and transforming data...\n"
     ]
    }
   ],
   "source": [
    "def get_mnist_test(limit=None):\n",
    "#   if not os.path.exists('../large_files'):\n",
    "#     print(\"You must create a folder called large_files adjacent to the class folder first.\")\n",
    "  if not os.path.exists('../input/train.csv'):\n",
    "    print(\"Looks like you haven't downloaded the data or it's not in the right spot.\")\n",
    "    print(\"Please get train.csv from https://www.kaggle.com/c/digit-recognizer\")\n",
    "    print(\"and place it in the large_files folder.\")\n",
    "\n",
    "  print(\"Reading in and transforming data...\")\n",
    "  df1 = pd.read_csv('test.csv')\n",
    "  data1 = df1.values\n",
    "  np.random.shuffle(data1)\n",
    "  X_test = data1[:, 0:].reshape(-1, 28, 28) / 255.0 # data is from 0..255\n",
    "#   Y_test = data1[:, 0]\n",
    "  if limit is not None:\n",
    "    X_test = X_test[:limit]\n",
    "  return X_test\n",
    "\n",
    "X_test = get_mnist_test()\n"
   ]
  },
  {
   "cell_type": "code",
   "execution_count": 46,
   "metadata": {},
   "outputs": [],
   "source": [
    "predictions = model.predict(X_test, verbose=0)\n"
   ]
  },
  {
   "cell_type": "code",
   "execution_count": 47,
   "metadata": {},
   "outputs": [],
   "source": [
    "pred_classes_output = predictions.argmax(axis=1)\n"
   ]
  },
  {
   "cell_type": "code",
   "execution_count": 48,
   "metadata": {},
   "outputs": [
    {
     "data": {
      "text/plain": [
       "array([9, 2, 0, ..., 4, 4, 5])"
      ]
     },
     "execution_count": 48,
     "metadata": {},
     "output_type": "execute_result"
    }
   ],
   "source": [
    "pred_classes_output"
   ]
  },
  {
   "cell_type": "code",
   "execution_count": 49,
   "metadata": {},
   "outputs": [],
   "source": [
    "submissions=pd.DataFrame({\"ImageId\": list(range(1,len(pred_classes_output)+1)),\n",
    "                         \"Label\": pred_classes_output})\n",
    "submissions.to_csv(\"output.csv\", index=False, header=True)"
   ]
  },
  {
   "cell_type": "code",
   "execution_count": 50,
   "metadata": {},
   "outputs": [
    {
     "data": {
      "text/html": [
       "<div>\n",
       "<style scoped>\n",
       "    .dataframe tbody tr th:only-of-type {\n",
       "        vertical-align: middle;\n",
       "    }\n",
       "\n",
       "    .dataframe tbody tr th {\n",
       "        vertical-align: top;\n",
       "    }\n",
       "\n",
       "    .dataframe thead th {\n",
       "        text-align: right;\n",
       "    }\n",
       "</style>\n",
       "<table border=\"1\" class=\"dataframe\">\n",
       "  <thead>\n",
       "    <tr style=\"text-align: right;\">\n",
       "      <th></th>\n",
       "      <th>ImageId</th>\n",
       "      <th>Label</th>\n",
       "    </tr>\n",
       "  </thead>\n",
       "  <tbody>\n",
       "    <tr>\n",
       "      <th>0</th>\n",
       "      <td>1</td>\n",
       "      <td>9</td>\n",
       "    </tr>\n",
       "    <tr>\n",
       "      <th>1</th>\n",
       "      <td>2</td>\n",
       "      <td>2</td>\n",
       "    </tr>\n",
       "    <tr>\n",
       "      <th>2</th>\n",
       "      <td>3</td>\n",
       "      <td>0</td>\n",
       "    </tr>\n",
       "    <tr>\n",
       "      <th>3</th>\n",
       "      <td>4</td>\n",
       "      <td>6</td>\n",
       "    </tr>\n",
       "    <tr>\n",
       "      <th>4</th>\n",
       "      <td>5</td>\n",
       "      <td>0</td>\n",
       "    </tr>\n",
       "  </tbody>\n",
       "</table>\n",
       "</div>"
      ],
      "text/plain": [
       "   ImageId  Label\n",
       "0        1      9\n",
       "1        2      2\n",
       "2        3      0\n",
       "3        4      6\n",
       "4        5      0"
      ]
     },
     "execution_count": 50,
     "metadata": {},
     "output_type": "execute_result"
    }
   ],
   "source": [
    "p = pd.read_csv(\"output.csv\")\n",
    "p.head(-5)"
   ]
  },
  {
   "cell_type": "code",
   "execution_count": 51,
   "metadata": {},
   "outputs": [
    {
     "data": {
      "text/html": [
       "<div>\n",
       "<style scoped>\n",
       "    .dataframe tbody tr th:only-of-type {\n",
       "        vertical-align: middle;\n",
       "    }\n",
       "\n",
       "    .dataframe tbody tr th {\n",
       "        vertical-align: top;\n",
       "    }\n",
       "\n",
       "    .dataframe thead th {\n",
       "        text-align: right;\n",
       "    }\n",
       "</style>\n",
       "<table border=\"1\" class=\"dataframe\">\n",
       "  <thead>\n",
       "    <tr style=\"text-align: right;\">\n",
       "      <th></th>\n",
       "      <th>ImageId</th>\n",
       "      <th>Label</th>\n",
       "    </tr>\n",
       "  </thead>\n",
       "  <tbody>\n",
       "    <tr>\n",
       "      <th>0</th>\n",
       "      <td>1</td>\n",
       "      <td>9</td>\n",
       "    </tr>\n",
       "    <tr>\n",
       "      <th>1</th>\n",
       "      <td>2</td>\n",
       "      <td>2</td>\n",
       "    </tr>\n",
       "    <tr>\n",
       "      <th>2</th>\n",
       "      <td>3</td>\n",
       "      <td>0</td>\n",
       "    </tr>\n",
       "    <tr>\n",
       "      <th>3</th>\n",
       "      <td>4</td>\n",
       "      <td>6</td>\n",
       "    </tr>\n",
       "    <tr>\n",
       "      <th>4</th>\n",
       "      <td>5</td>\n",
       "      <td>0</td>\n",
       "    </tr>\n",
       "    <tr>\n",
       "      <th>...</th>\n",
       "      <td>...</td>\n",
       "      <td>...</td>\n",
       "    </tr>\n",
       "    <tr>\n",
       "      <th>27990</th>\n",
       "      <td>27991</td>\n",
       "      <td>4</td>\n",
       "    </tr>\n",
       "    <tr>\n",
       "      <th>27991</th>\n",
       "      <td>27992</td>\n",
       "      <td>3</td>\n",
       "    </tr>\n",
       "    <tr>\n",
       "      <th>27992</th>\n",
       "      <td>27993</td>\n",
       "      <td>6</td>\n",
       "    </tr>\n",
       "    <tr>\n",
       "      <th>27993</th>\n",
       "      <td>27994</td>\n",
       "      <td>0</td>\n",
       "    </tr>\n",
       "    <tr>\n",
       "      <th>27994</th>\n",
       "      <td>27995</td>\n",
       "      <td>1</td>\n",
       "    </tr>\n",
       "  </tbody>\n",
       "</table>\n",
       "<p>27995 rows × 2 columns</p>\n",
       "</div>"
      ],
      "text/plain": [
       "       ImageId  Label\n",
       "0            1      9\n",
       "1            2      2\n",
       "2            3      0\n",
       "3            4      6\n",
       "4            5      0\n",
       "...        ...    ...\n",
       "27990    27991      4\n",
       "27991    27992      3\n",
       "27992    27993      6\n",
       "27993    27994      0\n",
       "27994    27995      1\n",
       "\n",
       "[27995 rows x 2 columns]"
      ]
     },
     "execution_count": 51,
     "metadata": {},
     "output_type": "execute_result"
    }
   ],
   "source": [
    "p.head(-5)"
   ]
  },
  {
   "cell_type": "code",
   "execution_count": null,
   "metadata": {},
   "outputs": [],
   "source": []
  }
 ],
 "metadata": {
  "kernelspec": {
   "display_name": "Python 3",
   "language": "python",
   "name": "python3"
  },
  "language_info": {
   "codemirror_mode": {
    "name": "ipython",
    "version": 3
   },
   "file_extension": ".py",
   "mimetype": "text/x-python",
   "name": "python",
   "nbconvert_exporter": "python",
   "pygments_lexer": "ipython3",
   "version": "3.7.4"
  }
 },
 "nbformat": 4,
 "nbformat_minor": 4
}
